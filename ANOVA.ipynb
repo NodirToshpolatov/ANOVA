{
 "cells": [
  {
   "cell_type": "code",
   "execution_count": 8,
   "metadata": {},
   "outputs": [],
   "source": [
    "import pandas as pd\n",
    "import scipy.stats as stats"
   ]
  },
  {
   "cell_type": "code",
   "execution_count": 9,
   "metadata": {},
   "outputs": [],
   "source": [
    "data = pd.DataFrame()\n",
    "data['group_A'] = [10, 15, 9, 11, 13 ]\n",
    "data['group_B'] = [12, 17, 14, 15, 16 ]\n",
    "data['group_C'] = [14, 16, 13, 12, 15 ]\n"
   ]
  },
  {
   "cell_type": "code",
   "execution_count": 10,
   "metadata": {},
   "outputs": [],
   "source": [
    "def calculate_mean(group):\n",
    "    return sum(group) / len(group)"
   ]
  },
  {
   "cell_type": "code",
   "execution_count": 11,
   "metadata": {},
   "outputs": [],
   "source": [
    "def SSW(groups):\n",
    "    ss_within = 0\n",
    "    for group in groups:\n",
    "        group_mean = calculate_mean(group)\n",
    "        ss_within += sum([(x - group_mean)**2 for x in group])\n",
    "    return ss_within"
   ]
  },
  {
   "cell_type": "code",
   "execution_count": 12,
   "metadata": {},
   "outputs": [],
   "source": [
    "def SSB(mean_g,overal_m,len_g):\n",
    "  ssb = sum([len_g[i]*(((mean_g[i]-overal_m))**2) for i in range(len(mean_g))])\n",
    "  return ssb\n"
   ]
  },
  {
   "cell_type": "code",
   "execution_count": 13,
   "metadata": {},
   "outputs": [],
   "source": [
    "def anova_one_way(data,group_names):\n",
    "  groups = [data[col].tolist() for col in group_names]\n",
    "  # print(\"Guruhlar \",(groups))\n",
    "  mean_groups = [sum(groups[i])/len(groups[i]) for i in range(len(groups))]\n",
    "  print(\"Guruhlar o'rtacha qiymati:    \",mean_groups)\n",
    "  len_groups = [len(groups[i]) for i in range(len(groups))]\n",
    "  print(\"Guruhlardagi elementlar soni: \",len_groups)\n",
    "  overal_mean = sum(mean_groups)/len(mean_groups)\n",
    "  print(\"Guruhlar umumiy ortachasi:    \",overal_mean)\n",
    "  ssb = SSB(mean_groups,overal_mean,len_groups)\n",
    "  print(\"SSB:                          \",ssb)\n",
    "  ssw = SSW(groups)\n",
    "  print(\"SSW:                          \" , ssw)\n",
    "  df_between =  (len(groups)-1)\n",
    "  msb = ssb/df_between\n",
    "  print(\"MSB:                          \"  ,msb)\n",
    "  df_within = (sum(len_groups)-len(groups)-1)\n",
    "  msw = ssw/df_within\n",
    "  print(\"MSW:                          \",msw)\n",
    "  f_stat = msb/msw\n",
    "  print(\"F_statisc:                    \",f_stat)\n",
    "  p_value = 1 - stats.f.cdf(f_stat, df_between, df_within)\n",
    "  print(\"P-qiymat:                     \", p_value)"
   ]
  },
  {
   "cell_type": "code",
   "execution_count": 14,
   "metadata": {},
   "outputs": [
    {
     "name": "stdout",
     "output_type": "stream",
     "text": [
      "Guruhlar o'rtacha qiymati:     [11.6, 14.8, 14.0]\n",
      "Guruhlardagi elementlar soni:  [5, 5, 5]\n",
      "Guruhlar umumiy ortachasi:     13.466666666666667\n",
      "SSB:                           27.73333333333335\n",
      "SSW:                           48.0\n",
      "MSB:                           13.866666666666674\n",
      "MSW:                           4.363636363636363\n",
      "F_statisc:                     3.17777777777778\n",
      "P-qiymat:                      0.0814231514967384\n"
     ]
    }
   ],
   "source": [
    "anova_one_way(data,['group_A','group_B','group_C'])"
   ]
  },
  {
   "cell_type": "code",
   "execution_count": null,
   "metadata": {},
   "outputs": [],
   "source": []
  }
 ],
 "metadata": {
  "kernelspec": {
   "display_name": "Python 3",
   "language": "python",
   "name": "python3"
  },
  "language_info": {
   "codemirror_mode": {
    "name": "ipython",
    "version": 3
   },
   "file_extension": ".py",
   "mimetype": "text/x-python",
   "name": "python",
   "nbconvert_exporter": "python",
   "pygments_lexer": "ipython3",
   "version": "3.12.2"
  }
 },
 "nbformat": 4,
 "nbformat_minor": 2
}
